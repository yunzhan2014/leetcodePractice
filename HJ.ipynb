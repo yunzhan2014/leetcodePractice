{
 "cells": [
  {
   "cell_type": "code",
   "execution_count": null,
   "metadata": {},
   "outputs": [],
   "source": [
    "n, m = map(int,input().split())\n",
    "primary, annex = {}, {}\n",
    "for i in range(1,m+1):\n",
    "    x, y, z = map(int, input().split())\n",
    "    if z==0:\n",
    "        primary[i] = [x, y]\n",
    "    else:\n",
    "        if z in annex:\n",
    "            annex[z].append([x, y])\n",
    "        else:\n",
    "            annex[z] = [[x,y]]\n",
    "dp = [0]*(n+1)\n",
    "for key in primary:\n",
    "    w, v= [], []\n",
    "    w.append(primary[key][0])#1、主件\n",
    "    v.append(primary[key][0]*primary[key][1])\n",
    "    if key in annex:#存在附件\n",
    "        w.append(w[0]+annex[key][0][0])#2、主件+附件1\n",
    "        v.append(v[0]+annex[key][0][0]*annex[key][0][1])\n",
    "        if len(annex[key])>1:#附件个数为2\n",
    "            w.append(w[0]+annex[key][1][0])#3、主件+附件2\n",
    "            v.append(v[0]+annex[key][1][0]*annex[key][1][1])\n",
    "            w.append(w[0]+annex[key][0][0]+annex[key][1][0])#4、主件+附件1+附件2\n",
    "            v.append(v[0]+annex[key][0][0]*annex[key][0][1]+annex[key][1][0]*annex[key][1][1])\n",
    "    for j in range(n,-1,-10):#物品的价格是10的整数倍\n",
    "        for k in range(len(w)):\n",
    "            if j-w[k]>=0:\n",
    "                dp[j] = max(dp[j], dp[j-w[k]]+v[k])   \n",
    "print(dp[n])"
   ]
  },
  {
   "cell_type": "markdown",
   "metadata": {},
   "source": [
    "# HJ17 坐标移动"
   ]
  },
  {
   "cell_type": "code",
   "execution_count": null,
   "metadata": {},
   "outputs": [],
   "source": [
    "input_list = input().split(';')\n",
    "initial = [0,0]\n",
    "\n",
    "for item in input_list:\n",
    "    if not 2 <= len(item) <= 3:\n",
    "        continue\n",
    "\n",
    "    try:\n",
    "        direction = item[0]\n",
    "        step = int(item[1:])\n",
    "        if direction in ['A', 'D', 'W', 'S']:\n",
    "            if 0 <= step <= 99:\n",
    "                if direction == 'A':\n",
    "                    initial[0] -= step\n",
    "                elif direction == 'D':\n",
    "                    initial[0] += step\n",
    "                elif direction == 'S':\n",
    "                    initial[1] -= step\n",
    "                elif direction == 'W':\n",
    "                    initial[1] += step\n",
    "    except:\n",
    "        continue\n",
    "\n",
    "print(str(initial[0]) + ',' + str(initial[1]))"
   ]
  },
  {
   "cell_type": "markdown",
   "metadata": {},
   "source": [
    "# HJ18 识别有效的IP地址和掩码并进行分类统计"
   ]
  },
  {
   "cell_type": "code",
   "execution_count": null,
   "metadata": {},
   "outputs": [],
   "source": [
    "import sys\n",
    "\n",
    "res = [0,0,0,0,0,0,0]\n",
    "\n",
    "def puip(ip):\n",
    "    if 1 <= ip[0] <= 126:\t\t\t\t# A类地址判断条件\n",
    "        res[0] += 1\n",
    "    elif 128 <= ip[0] <= 191:\t\t\t# B类地址判断条件\n",
    "        res[1] += 1\n",
    "    elif 192 <= ip[0] <= 223:\t\t\t# C类地址判断条件\n",
    "        res[2] += 1\n",
    "    elif 224 <= ip[0] <= 239:\t\t\t# D类地址判断条件\n",
    "        res[3] += 1\n",
    "    elif 240 <= ip[0] <= 255:\t\t\t# E类地址判断条件\n",
    "        res[4] += 1\n",
    "    return\n",
    "\n",
    "def prip(ip):\t\t\t# 私有IP地址判断条件\n",
    "    if (ip[0] == 10) or (ip[0] == 172 and 16 <= ip[1] <= 32) or (ip[0] == 192 and ip[1] == 168):\n",
    "        res[6] += 1\n",
    "    return\n",
    "\n",
    "def ym(msk):\t\t\t# 判断掩码合法性\n",
    "    val = (msk[0] << 24) + (msk[1] << 16) + (msk[2] << 8) + msk[3]\t\t# 转换成32位\n",
    "    if val == 0:\t\t\t\t\t\t\t\t\t\t\t\t\t\t  # 排除全0的情况\n",
    "        return False\n",
    "    if (val+1) == (1<<32):\t\t\t\t\t\t\t\t\t\t\t\t# 排除全1的情况\n",
    "        return False\n",
    "    flag = 0\n",
    "    while(val):\n",
    "        digit = val & 1\t\t\t\t\t\t\t\t\t\t\t\t\t# 逐位判断\n",
    "        if digit == 1:\n",
    "            flag = 1\n",
    "        if flag == 1 and digit == 0:\t\t\t\t\t\t\t\t\t# flag=1表示已经不允许再出现0\n",
    "            return False\n",
    "        val >>= 1\n",
    "    return True\n",
    "    \n",
    "\n",
    "def judge(line):\n",
    "    ip, msk = line.strip().split('~')\n",
    "    ips = [int(x) for x in filter(None, ip.split('.'))]\t\t\t\t# 获得表示IP的列表，理论上应该包含四个元素\n",
    "    msks = [int(x) for x in filter(None, msk.split('.'))]\t\t\t# 获得表示掩码的列表，理论上应该包含四个元素\n",
    "    if ips[0] == 0 or ips[0] == 127:\t\t\t\t\t\t\t\t# 排除非法IP不计数\n",
    "        return\n",
    "    if len(ips) < 4 or len(msks) < 4:\t\t\t\t\t\t\t\t  # 判断错误掩码或错误IP\n",
    "        res[5] += 1\n",
    "        return\n",
    "    if ym(msks) == True:\t\t\t\t\t\t\t\t\t\t\t# 通过掩码判断的可以进行IP判断\n",
    "        puip(ips)\n",
    "        prip(ips)\n",
    "    else:\n",
    "        res[5] += 1\n",
    "    return\n",
    "\n",
    "for line in sys.stdin:\n",
    "    judge(line)\n",
    "# judge(\"192.168.0.2~255.255.255.0\")\n",
    "\n",
    "res = [str(x) for x in res]\n",
    "print(\" \".join(res))"
   ]
  },
  {
   "cell_type": "markdown",
   "metadata": {},
   "source": [
    "# HJ19 简单错误记录"
   ]
  },
  {
   "cell_type": "code",
   "execution_count": null,
   "metadata": {},
   "outputs": [],
   "source": [
    "l = []\n",
    "ll = []\n",
    "while 1:\n",
    "    try:\n",
    "        s = input().split('\\\\')[-1]\n",
    "        data = s.split(' ')[0][-16:] + ' ' + s.split(' ')[1]\n",
    "        if data not in l:\n",
    "            l.append(data)\n",
    "            ll.append(1)\n",
    "        else:\n",
    "            ll[l.index(data)] += 1\n",
    "    except:\n",
    "        break\n",
    "\n",
    "for i in range(len(l[-8:])):\n",
    "    print(l[-8:][i], ll[-8:][i])"
   ]
  },
  {
   "cell_type": "markdown",
   "metadata": {},
   "source": [
    "# HJ20 密码验证合格程序"
   ]
  },
  {
   "cell_type": "code",
   "execution_count": null,
   "metadata": {},
   "outputs": [],
   "source": [
    "def get_ans(s):\n",
    "    return 'OK' if (len(s)>8 and three_types(s) and sub_str(s)) else 'NG'\n",
    "\n",
    "def three_types(s):\n",
    "    mark=set()\n",
    "    for i in s:\n",
    "        if i.islower(): mark.add('lower')\n",
    "        elif i.isupper(): mark.add('upper')\n",
    "        elif i.isnumeric(): mark.add('numeric')\n",
    "        elif i!=' ' or i!='\\n': mark.add('else')\n",
    "    return len(mark)>=3\n",
    "\n",
    "def sub_str(s):\n",
    "    mark=set()\n",
    "    for i in range(len(s)-3):\n",
    "        if s[i:i+3] not in mark:\n",
    "            mark.add(s[i:i+3])\n",
    "        else: return False\n",
    "    return True\n",
    "\n",
    "lines = []\n",
    "while True:\n",
    "    try:\n",
    "        line = input()\n",
    "        print(get_ans(line))\n",
    "    except:\n",
    "        break\n"
   ]
  },
  {
   "cell_type": "markdown",
   "metadata": {},
   "source": [
    "# HJ21 简单密码"
   ]
  },
  {
   "cell_type": "code",
   "execution_count": null,
   "metadata": {},
   "outputs": [],
   "source": [
    "while True:\n",
    "    try:\n",
    "        s = input()\n",
    "        res = []\n",
    "        for i in s:\n",
    "            if i.isdigit():\n",
    "                res.append(i)\n",
    "            elif i.isupper() and i != 'Z':\n",
    "                res.append(chr(ord(i.lower()) + 1)) # ascii码加一\n",
    "            elif i == 'Z':\n",
    "                res.append('a')\n",
    "            else:\n",
    "                if i in 'abc':\n",
    "                    res.append('2')\n",
    "                elif i in 'def':\n",
    "                    res.append('3')\n",
    "                elif i in 'ghi':\n",
    "                    res.append('4')\n",
    "                elif i in 'jkl':\n",
    "                    res.append('5')\n",
    "                elif i in 'mno':\n",
    "                    res.append('6')\n",
    "                elif i in 'pqrs':\n",
    "                    res.append('7')\n",
    "                elif i in 'tuv':\n",
    "                    res.append('8')\n",
    "                else:\n",
    "                    res.append('9')\n",
    "        print(''.join(res))\n",
    "    except:\n",
    "        break"
   ]
  },
  {
   "cell_type": "markdown",
   "metadata": {},
   "source": [
    "# HJ22 汽水瓶"
   ]
  },
  {
   "cell_type": "code",
   "execution_count": null,
   "metadata": {},
   "outputs": [
    {
     "name": "stdout",
     "output_type": "stream",
     "text": [
      "1\n",
      "161\n"
     ]
    }
   ],
   "source": [
    "def func(num):\n",
    "    if num == 1 or num == 0:\n",
    "        return 0\n",
    "    else:\n",
    "        return func(num-2) + 1\n",
    "\n",
    "while True:\n",
    "    try:\n",
    "        s = int(input())\n",
    "        if s != 0:\n",
    "            print(func(s))\n",
    "    except:\n",
    "        break"
   ]
  },
  {
   "cell_type": "markdown",
   "metadata": {},
   "source": [
    "# HJ25 数据分类处理"
   ]
  },
  {
   "cell_type": "code",
   "execution_count": null,
   "metadata": {},
   "outputs": [],
   "source": [
    "while True:\n",
    "    try:\n",
    "        s1 = input().split()[1:]\n",
    "        s2 = list(set(map(int, input().split()[1:])))\n",
    "        s2.sort()\n",
    "        rst = []\n",
    "        for num in s2:\n",
    "            tmp = []\n",
    "            for i, sub in enumerate(s1):\n",
    "                if str(num) in sub:\n",
    "                    tmp.extend([str(i), str(sub)])\n",
    "            if tmp:\n",
    "                rst.extend([str(num), str(len(tmp)//2)] + tmp)\n",
    "        print(str(len(rst)) + \" \" + \" \".join(rst))\n",
    "    except:\n",
    "        break"
   ]
  },
  {
   "cell_type": "markdown",
   "metadata": {},
   "source": [
    "# H26 字符串排序"
   ]
  },
  {
   "cell_type": "code",
   "execution_count": null,
   "metadata": {},
   "outputs": [],
   "source": [
    "while True:\n",
    "    try:\n",
    "        s = input()\n",
    "        a = ''\n",
    "        for i in s:\n",
    "            if i.isalpha():\n",
    "                a += i\n",
    "        b = sorted(a, key=str.upper)\n",
    "        index = 0\n",
    "        d = ''\n",
    "        for i in range(len(s)):\n",
    "            if s[i].isalpha():\n",
    "                d += b[index]\n",
    "                index += 1\n",
    "            else:\n",
    "                d += s[i]\n",
    "        print(d)\n",
    "    except:\n",
    "        break"
   ]
  },
  {
   "cell_type": "markdown",
   "metadata": {},
   "source": [
    "# HJ27 查找兄弟单词 "
   ]
  },
  {
   "cell_type": "code",
   "execution_count": null,
   "metadata": {},
   "outputs": [],
   "source": [
    "while True:\n",
    "    try:\n",
    "        s_list = input().split()\n",
    "        num, k = int(s_list[0]), int(s_list[-1])\n",
    "        words = s_list[1: 1+num]\n",
    "        find_word = s_list[-2]\n",
    "        res = []\n",
    "        for i in words:\n",
    "            if sorted(i) == sorted(find_word) and i != find_word:\n",
    "                res.append(i)\n",
    "        print(len(res))\n",
    "        \n",
    "        if k <= len(res):\n",
    "            print(sorted(res)[k-1])\n",
    "    except:\n",
    "        break"
   ]
  },
  {
   "cell_type": "markdown",
   "metadata": {},
   "source": [
    "# HJ29 字符串加解密"
   ]
  },
  {
   "cell_type": "code",
   "execution_count": 11,
   "metadata": {},
   "outputs": [],
   "source": [
    "def func1(s):\n",
    "    new_s = \"\"\n",
    "    for i,v in enumerate(s):\n",
    "        if v.isalpha():\n",
    "            if v =='z':\n",
    "                new_s += 'A'\n",
    "            elif v == 'Z':\n",
    "                new_s += 'a'\n",
    "            else:\n",
    "                new_s += chr(ord(v.swapacse())+1)\n",
    "        else:\n",
    "            if v == '9':\n",
    "                new_s += '0'\n",
    "            else:\n",
    "                new_s += str(int(v) +1)\n",
    "    return new_s\n",
    "\n",
    "def func2(s):\n",
    "    new_s = \"\"\n",
    "    for i,v in enumerate(s):\n",
    "        if v.isalpha():\n",
    "            if v =='A':\n",
    "                new_s += 'z'\n",
    "            elif v == 'a':\n",
    "                new_s += 'Z'\n",
    "            else:\n",
    "                new_s += chr(ord(v.swapacse())-1)\n",
    "        else:\n",
    "            if v == '0':\n",
    "                new_s += '9'\n",
    "            else:\n",
    "                new_s += str(int(v) -1)\n",
    "    return new_s\n",
    "\n",
    "\n",
    "\n",
    "while True:\n",
    "    try:\n",
    "        #s1 = input()\n",
    "        #s2 = input()\n",
    "        s1 = \"abcdefg\"\n",
    "        res1 = func1(s1)\n",
    "        #res2 = func2(s2)\n",
    "        print(res1)\n",
    "        #print(res2)\n",
    "    except:\n",
    "        break"
   ]
  },
  {
   "cell_type": "code",
   "execution_count": null,
   "metadata": {},
   "outputs": [],
   "source": []
  }
 ],
 "metadata": {
  "interpreter": {
   "hash": "31f2aee4e71d21fbe5cf8b01ff0e069b9275f58929596ceb00d14d90e3e16cd6"
  },
  "kernelspec": {
   "display_name": "Python 3.8.10 64-bit",
   "language": "python",
   "name": "python3"
  },
  "language_info": {
   "codemirror_mode": {
    "name": "ipython",
    "version": 3
   },
   "file_extension": ".py",
   "mimetype": "text/x-python",
   "name": "python",
   "nbconvert_exporter": "python",
   "pygments_lexer": "ipython3",
   "version": "3.8.10"
  },
  "orig_nbformat": 4
 },
 "nbformat": 4,
 "nbformat_minor": 2
}
